{
 "cells": [
  {
   "cell_type": "code",
   "execution_count": 14,
   "metadata": {
    "pycharm": {
     "is_executing": false,
     "name": "#%%\n"
    }
   },
   "outputs": [
    {
     "name": "stdout",
     "text": [
      "[('A', 7), ('AC', 6), ('ACT', 4), ('AG', 6), ('AGC', 6), ('AGT', 5), ('AGTC', 4), ('AT', 6), ('ATC', 5), ('C', 7), ('CA', 6), ('CAG', 4), ('CC', 4), ('CG', 6), ('CGC', 4), ('CT', 5), ('CTC', 4), ('G', 7), ('GA', 5), ('GAG', 4), ('GC', 6), ('GCA', 4), ('GCG', 4), ('GG', 4), ('GT', 6), ('GTC', 5), ('T', 7), ('TA', 5), ('TC', 6), ('TCA', 5), ('TCG', 4), ('TG', 5)]\n"
     ],
     "output_type": "stream"
    }
   ],
   "source": [
    "##debug variable 1 on, 0 off\n",
    "debug=0\n",
    "def readData(file):\n",
    "    db=[]\n",
    "    with open(file) as f:\n",
    "        for line in f.readlines():\n",
    "            db.append(line.replace(\"\\n\",\"\"))\n",
    "    return db\n",
    "def getSymbols(lista):\n",
    "    se=set()\n",
    "    for a in lista:\n",
    "        for b in list(a):\n",
    "            se.add(b)\n",
    "    return sorted(se)\n",
    "def getSymbolsDicc(dicc):\n",
    "    se=set()\n",
    "    for a in dicc:\n",
    "        for b in dicc[a]:\n",
    "            for c in list(dicc[a][b]):\n",
    "                se.add(c)\n",
    "    return sorted(se)\n",
    "def getDict(data,symbols,minsup):\n",
    "    table=dict()\n",
    "    newData=arrayToDict(data)\n",
    "    for k in sorted(symbols):\n",
    "        temp=dict()\n",
    "        for i in newData:\n",
    "                if k in list(newData[i]):\n",
    "                    temp[i]=set([i+1 for i,v in enumerate(list(newData[i]))  if v==k])\n",
    "        table[k]=temp\n",
    "    return dict(filter(lambda elem:  len(elem[1])>=minsup, table.items()))\n",
    "def arrayToDict(arr):\n",
    "    dic=dict()\n",
    "    for i,d in enumerate(arr):\n",
    "        dic[i+1]=d\n",
    "    return dic   \n",
    "def seqJoin(a,b):\n",
    "    dictu=dict()\n",
    "    for der in b:\n",
    "        if der in a:\n",
    "            temp=set()\n",
    "            for derIt in b[der]:\n",
    "                for izqIt in a[der]:\n",
    "                    if derIt>izqIt:\n",
    "                        temp.add(derIt)\n",
    "            if temp:\n",
    "                dictu[der]=temp\n",
    "    return dictu\n",
    "def spadeCod(p,minsup,f,k):\n",
    "    for ra in p:\n",
    "        f.append((ra,len(p[ra])))\n",
    "        pa=dict()\n",
    "        for rb in p:\n",
    "            rab=ra+rb[k]\n",
    "            lrab=seqJoin(p[ra],p[rb])\n",
    "            supRab=len(lrab)\n",
    "            if supRab>=minsup:\n",
    "                pa[rab]=lrab\n",
    "        if debug==1:\n",
    "            print(ra,pa)\n",
    "        if pa:\n",
    "            spadeCod(pa,minsup,f,k+1)\n",
    "    return f\n",
    "def spade(db,minsup):\n",
    "    data = readData(db)\n",
    "    symbols=getSymbols(data)\n",
    "    newDic=getDict(data,symbols,minsup)\n",
    "    if debug==1:\n",
    "        print('∅',newDic)\n",
    "    return spadeCod(newDic,minsup,[],0)\n",
    "print(spade(\"cap10.dat\",4))"
   ]
  },
  {
   "cell_type": "code",
   "execution_count": 4,
   "metadata": {
    "pycharm": {
     "is_executing": false,
     "name": "#%%\n"
    }
   },
   "outputs": [
    {
     "name": "stdout",
     "text": [
      "[('A', 7), ('AC', 6), ('ACT', 5), ('AG', 6), ('AGC', 6), ('AGT', 6), ('AGTC', 4), ('AT', 6), ('ATC', 5), ('C', 7), ('CA', 7), ('CAG', 4), ('CC', 7), ('CG', 7), ('CGC', 5), ('CT', 7), ('CTC', 4), ('G', 7), ('GA', 7), ('GAG', 4), ('GC', 7), ('GCA', 5), ('GCG', 5), ('GG', 7), ('GT', 7), ('GTC', 5), ('T', 7), ('TA', 6), ('TC', 6), ('TCA', 5), ('TCG', 5), ('TG', 6)]\n"
     ],
     "output_type": "stream"
    }
   ],
   "source": [
    "def prefixSpan(db,minsup):\n",
    "    D=dict()\n",
    "    data=readData(db)\n",
    "    D[\"\"]=(arrayToDict(data))\n",
    "    return  PrefixSpanCod(D,\"\",minsup,[])\n",
    "def PrefixSpanCod(dr,r,minsup,f):\n",
    "    if debug==1:\n",
    "        print(dr)\n",
    "    frec=dict()\n",
    "    for j in getSymbolsDicc(dr):\n",
    "        frec[j]=0\n",
    "        for i in dr[r]:\n",
    "            if list(dr[r][i]).count(j)>0:\n",
    "                frec[j]+=1\n",
    "    newFrec=[x for x in frec if frec[x]>=minsup]\n",
    "    newInFrec=list(set(getSymbolsDicc(dr)) - set(newFrec))\n",
    "    for i,j in enumerate(newFrec):\n",
    "        rs=r+j\n",
    "        f.append((rs,[len(dr[x]) for x in dr][0]))\n",
    "        ds={rs:dict()}\n",
    "        for i in dr[r]:\n",
    "            text=''.join(\"\" if h in newInFrec else h for h in list(dr[r][i]))\n",
    "            if j in list(text) and text[(text).index(j)+1:]:\n",
    "                ds[rs][i]=text[(text).index(j)+1:]\n",
    "        if list(ds.values())[0]:\n",
    "            PrefixSpanCod(ds,rs,minsup,f)\n",
    "    return f\n",
    "print(prefixSpan(\"cap10.dat\",4))"
   ]
  },
  {
   "cell_type": "code",
   "execution_count": 10,
   "metadata": {
    "pycharm": {
     "is_executing": false,
     "name": "#%%\n"
    }
   },
   "outputs": [
    {
     "name": "stdout",
     "text": [
      "[['CAGAAGT$'], ['AGAAGT$'], ['GAAGT$'], ['AAGT$'], ['AGT$'], ['GT$'], ['T$'], ['$']]\n"
     ],
     "output_type": "stream"
    }
   ],
   "source": [
    "def MineSubstrings():\n",
    "    ''\n",
    "t=dict()\n",
    "temp=[[\"\"]]\n",
    "strings=[[\"CAGAAGT\"]]\n",
    "for ind,st in enumerate(strings):\n",
    "    s=list(\"\".join(st))\n",
    "    n=len(s)\n",
    "    s.append(\"$\")\n",
    "    for i in range(0,n+1):\n",
    "        for j in range(0,i+1):\n",
    "            if [\"\".join(s[j:i])] in temp:\n",
    "                temp[temp.index([\"\".join(s[j:i])])]=[\"\".join(s[j:i])+s[i]]\n",
    "            else:\n",
    "                temp.append([s[i]])\n",
    "        # print('---')\n",
    "print(temp)"
   ]
  },
  {
   "cell_type": "code",
   "execution_count": 5,
   "metadata": {
    "pycharm": {
     "is_executing": false,
     "name": "#%%\n"
    }
   },
   "outputs": [],
   "source": [
    "def spade2(db,minsup):\n",
    "    super=dict()\n",
    "    with open(db) as f:\n",
    "        for line in f.readlines():\n",
    "            if line.split()[0] in super:\n",
    "                super[line.split()[0]]+=line.split()[1]\n",
    "            else:\n",
    "                super[line.split()[0]]=line.split()[1]\n",
    "    data=list(super.values())\n",
    "    symbols=getSymbols(data)\n",
    "    newDic=getDict(data,symbols,minsup)\n",
    "    if debug==1:\n",
    "        print('∅',newDic)\n",
    "    return spadeCod(newDic,minsup,[],0),data,super\n",
    "f,data,clientes=spade2(\"shopbigbrother.dat\",5)"
   ]
  },
  {
   "cell_type": "code",
   "execution_count": 15,
   "metadata": {
    "pycharm": {
     "is_executing": false,
     "name": "#%%\n"
    }
   },
   "outputs": [
    {
     "name": "stdout",
     "text": [
      "('BH', 231)\n",
      "('HB', 251)\n",
      "\n",
      "seccion A\n",
      "vienen de ['B', 'C', 'D', 'E', 'F', 'G', 'H', 'I', 'J', 'K', 'L', 'M']\n",
      "van a ['B', 'C', 'D', 'E', 'F', 'G', 'H', 'I', 'J', 'K', 'L', 'M']\n",
      "frecuencia de  AA 194\n",
      "\n",
      "\n",
      "seccion B\n",
      "vienen de ['A', 'C', 'D', 'E', 'F', 'G', 'H', 'I', 'J', 'K', 'L', 'M']\n",
      "van a ['A', 'C', 'D', 'E', 'F', 'G', 'H', 'I', 'J', 'K', 'L', 'M']\n",
      "frecuencia de  BB 509\n",
      "\n",
      "\n",
      "seccion C\n",
      "vienen de ['A', 'B', 'C', 'D', 'E', 'F', 'G', 'H', 'I', 'J', 'K', 'L', 'M']\n",
      "van a ['A', 'B', 'C', 'D', 'E', 'F', 'G', 'H', 'I', 'J', 'K', 'L', 'M']\n",
      "frecuencia de  CC 525\n",
      "\n",
      "\n",
      "seccion D\n",
      "vienen de ['A', 'B', 'C', 'E', 'F', 'G', 'H', 'I', 'J', 'K', 'L', 'M']\n",
      "van a ['A', 'B', 'C', 'E', 'F', 'G', 'H', 'I', 'J', 'K', 'L', 'M']\n",
      "frecuencia de  DD 533\n",
      "\n",
      "\n",
      "seccion E\n",
      "vienen de ['A', 'B', 'C', 'D', 'F', 'G', 'H', 'I', 'J', 'K', 'L', 'M']\n",
      "van a ['A', 'B', 'C', 'D', 'F', 'G', 'H', 'I', 'J', 'K', 'L', 'M']\n",
      "frecuencia de  EE 482\n",
      "\n",
      "\n",
      "seccion F\n",
      "vienen de ['A', 'B', 'C', 'D', 'E', 'G', 'H', 'I', 'J', 'K', 'L', 'M']\n",
      "van a ['A', 'B', 'C', 'D', 'E', 'G', 'H', 'I', 'J', 'K', 'L', 'M']\n",
      "frecuencia de  FF 544\n",
      "\n",
      "\n",
      "seccion G\n",
      "vienen de ['A', 'B', 'C', 'D', 'E', 'F', 'H', 'I', 'J', 'K', 'L', 'M']\n",
      "van a ['A', 'B', 'C', 'D', 'E', 'F', 'H', 'I', 'J', 'K', 'L', 'M']\n",
      "frecuencia de  GG 480\n",
      "\n",
      "\n",
      "seccion H\n",
      "vienen de ['A', 'B', 'C', 'D', 'E', 'F', 'G', 'I', 'J', 'K', 'L', 'M']\n",
      "van a ['A', 'B', 'C', 'D', 'E', 'F', 'G', 'I', 'J', 'K', 'L', 'M']\n",
      "frecuencia de  HH 476\n",
      "\n",
      "\n",
      "seccion I\n",
      "vienen de ['A', 'B', 'C', 'D', 'E', 'F', 'G', 'H', 'J', 'K', 'L', 'M']\n",
      "van a ['A', 'B', 'C', 'D', 'E', 'F', 'G', 'H', 'J', 'K', 'L', 'M']\n",
      "frecuencia de  II 487\n",
      "\n",
      "\n",
      "seccion J\n",
      "vienen de ['A', 'B', 'C', 'D', 'E', 'F', 'G', 'H', 'I', 'K', 'L', 'M']\n",
      "van a ['A', 'B', 'C', 'D', 'E', 'F', 'G', 'H', 'I', 'K', 'L', 'M']\n",
      "frecuencia de  JJ 487\n",
      "\n",
      "\n",
      "seccion K\n",
      "vienen de ['A', 'B', 'C', 'D', 'E', 'F', 'G', 'H', 'I', 'J', 'L', 'M']\n",
      "van a ['A', 'B', 'C', 'D', 'E', 'F', 'G', 'H', 'I', 'J', 'L', 'M']\n",
      "frecuencia de  KK 510\n",
      "\n",
      "\n",
      "seccion L\n",
      "vienen de ['A', 'B', 'C', 'D', 'E', 'F', 'G', 'H', 'I', 'J', 'K', 'M']\n",
      "van a ['A', 'B', 'C', 'D', 'E', 'F', 'G', 'H', 'I', 'J', 'K', 'M']\n",
      "frecuencia de  LL 471\n",
      "\n",
      "\n",
      "seccion M\n",
      "vienen de ['A', 'B', 'C', 'D', 'E', 'F', 'G', 'H', 'I', 'J', 'K', 'L']\n",
      "van a ['A', 'B', 'C', 'D', 'E', 'F', 'G', 'H', 'I', 'J', 'K', 'L']\n",
      "frecuencia de  MM 144\n",
      "\n"
     ],
     "output_type": "stream"
    }
   ],
   "source": [
    "for h in f:\n",
    "    if h[1]>=5 and  len(h[0])>=4:\n",
    "        if debug==1:\n",
    "            print(h)\n",
    "for h in f:\n",
    "    if h[0]==(\"BH\") or h[0]==(\"HB\") :\n",
    "        print(h)\n",
    "for h in f:\n",
    "    if len(h[0])==2  and h[0][0]==h[0][1]:\n",
    "        print('\\nseccion',h[0][0])\n",
    "        contad=0\n",
    "        antes=set()\n",
    "        despues=set()\n",
    "        for d in data:\n",
    "            if d.count(h[0][0])>=2:\n",
    "                for index,letra in enumerate(list(d)):\n",
    "                    if letra == h[0][0]:\n",
    "                        try:\n",
    "                            if not index-1<0:\n",
    "                                antes.add(list(d)[index-1])\n",
    "                            despues.add(list(d)[index+1])\n",
    "                        except IndexError:\n",
    "                            ''\n",
    "                contad+=d.count(h[0][0])\n",
    "        print(\"vienen de\",sorted(antes))\n",
    "        print(\"van a\",sorted(despues))\n",
    "        print('frecuencia de ',h[0],contad)\n",
    "        print()"
   ]
  }
 ],
 "metadata": {
  "kernelspec": {
   "display_name": "Python 3",
   "language": "python",
   "name": "python3"
  },
  "language_info": {
   "codemirror_mode": {
    "name": "ipython",
    "version": 3
   },
   "file_extension": ".py",
   "mimetype": "text/x-python",
   "name": "python",
   "nbconvert_exporter": "python",
   "pygments_lexer": "ipython3",
   "version": "3.7.5"
  },
  "pycharm": {
   "stem_cell": {
    "cell_type": "raw",
    "source": [],
    "metadata": {
     "collapsed": false
    }
   }
  }
 },
 "nbformat": 4,
 "nbformat_minor": 1
}