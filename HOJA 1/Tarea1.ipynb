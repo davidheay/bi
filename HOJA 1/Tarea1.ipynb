{
 "cells": [
  {
   "cell_type": "code",
   "execution_count": 67,
   "metadata": {
    "pycharm": {
     "name": "#%% EJERCICIO 1\n",
     "is_executing": false
    }
   },
   "outputs": [
    {
     "name": "stdout",
     "text": [
      "PUNTO 1 \n",
      " ----------------------------------------------------------\n",
      "EJERCICIO 1 A **********************\n",
      "Metodo 1 \n",
      "\n",
      "Vector de unos\n",
      " [1 1 1 1 1 1 1 1 1 1]\n",
      "Vectos 3n\n",
      " [ 3  6  9 12 15 18 21 24 27 30]\n",
      "\n",
      "Metodo 2\n",
      "\n",
      "Vector de unos\n",
      " [1 1 1 1 1 1 1 1 1 1]\n",
      "Vectos 3n \n",
      " [ 3  6  9 12 15 18 21 24 27 30]\n",
      "\n",
      "EJERCICIO 1 B **********************\n",
      "\n",
      "Vector de enteros de la funcion 15*sin()\n",
      "y2\n",
      " [  2  -4   6  -8  10 -11  13 -14  14 -15]\n",
      "\n",
      "Inidces de los vectores mayores a 6:\n",
      " [4 6 8]\n",
      "4,6,8,\n",
      "Cantidad de entradas iguales a 5: 0\n",
      "0\n",
      "\n",
      "EJERCICIO 2 **********************\n",
      "Matiz M \n",
      " [[  3   6   9  12  15  18  21  24  27  30]\n",
      " [  2  -4   6  -8  10 -11  13 -14  14 -15]]\n",
      "Matiz M2 columns stack \n",
      " [[  3   2]\n",
      " [  6  -4]\n",
      " [  9   6]\n",
      " [ 12  -8]\n",
      " [ 15  10]\n",
      " [ 18 -11]\n",
      " [ 21  13]\n",
      " [ 24 -14]\n",
      " [ 27  14]\n",
      " [ 30 -15]]\n",
      "\n",
      "Matiz M2 T \n",
      " [[  3   2]\n",
      " [  6  -4]\n",
      " [  9   6]\n",
      " [ 12  -8]\n",
      " [ 15  10]\n",
      " [ 18 -11]\n",
      " [ 21  13]\n",
      " [ 24 -14]\n",
      " [ 27  14]\n",
      " [ 30 -15]]\n",
      "\n",
      "EJERCICIO 3 **********************\n",
      "M+x [[  4   7  10  13  16  19  22  25  28  31]\n",
      " [  3  -3   7  -7  11 -10  14 -13  15 -14]]\n",
      "\n",
      "M2+x\n",
      " [[  4   3]\n",
      " [  7  -3]\n",
      " [ 10   7]\n",
      " [ 13  -7]\n",
      " [ 16  11]\n",
      " [ 19 -10]\n",
      " [ 22  14]\n",
      " [ 25 -13]\n",
      " [ 28  15]\n",
      " [ 31 -14]]\n",
      "\n",
      "EJERCICIO 4 **********************\n",
      "Es mayor en la columna\n",
      "3,5,7,9,"
     ],
     "output_type": "stream"
    }
   ],
   "source": [
    "import numpy as np\n",
    "print('PUNTO 1 \\n ----------------------------------------------------------')\n",
    "print('EJERCICIO 1 A **********************')\n",
    "print('Metodo 1 \\n')\n",
    "#Metodo 1\n",
    "n = 10#int(input()) #Peticion de n, cantidad de columnas del vector\n",
    "x = np.ones(n).astype(int) #Creacion vector de unos de longitud n\n",
    "y = np.arange(3,n*3+1,3) #Creacion vector de 3n de longitud n\n",
    "print('Vector de unos\\n',x)\n",
    "print('Vectos 3n\\n',y)\n",
    "\n",
    "#Metodo 2\n",
    "print('\\nMetodo 2\\n')\n",
    "x=np.array([]).astype(int)\n",
    "y=np.array([]).astype(int)\n",
    "for i in range(1, n+1):\n",
    "   x=np.append(x,[1])\n",
    "   y=np.append(y,[i*3])\n",
    "print('Vector de unos\\n',x)\n",
    "print('Vectos 3n \\n',y)\n",
    "print('\\nEJERCICIO 1 B **********************')\n",
    "#PUNTO 1 B\n",
    "print('\\nVector de enteros de la funcion 15*sin()')\n",
    "y2=np.rint(15*np.sin(y)).astype(int)\n",
    "print('y2\\n',y2)\n",
    "print('\\nInidces de los vectores mayores a 6:\\n',np.where(y2>6)[0])\n",
    "for i in range(0, n):\n",
    "    if y2[i]>6:\n",
    "        print(i, end = ',')\n",
    "print('\\nCantidad de entradas iguales a 5:',len(np.where(y2==5)[0]))\n",
    "eq5=0\n",
    "for i in range(0, n):\n",
    "    if y2[i]==5:\n",
    "        eq5+=1\n",
    "print(eq5)\n",
    "#¿Son todas las entradas mayores que 2? NO\n",
    "print('\\nEJERCICIO 2 **********************')\n",
    "#PUNTO 2\n",
    "M= np.row_stack((y,y2))\n",
    "print('Matiz M \\n',M)\n",
    "#METODO 1\n",
    "M2=np.column_stack((y,y2))\n",
    "print('Matiz M2 columns stack \\n',M2)\n",
    "#METODO 2\n",
    "M2=M.T\n",
    "print('\\nMatiz M2 T \\n',M2)\n",
    "print('\\nEJERCICIO 3 **********************')\n",
    "#PUNTO 3\n",
    "M+=x\n",
    "print('M+x',M)\n",
    "M-=x #Ya que M hace referencia al objeto M2 se ve alterado, debo devolver lo hecho para aplicarle a M2\n",
    "M2+=np.asmatrix(x).T\n",
    "print('\\nM2+x\\n',M2)\n",
    "print('\\nEJERCICIO 4 **********************')\n",
    "print('Es mayor en la columna')\n",
    "\n",
    "for j in range(0,  np.size(M,1)):\n",
    "        if M[0,j]>5 and M[1,j]>5:\n",
    "            print(j+1,end=',')\n",
    "        \n",
    "    "
   ]
  },
  {
   "cell_type": "code",
   "execution_count": 75,
   "outputs": [
    {
     "name": "stdout",
     "text": [
      "PUNTO 2  ----------------------------------------------------------\n",
      "EJERCICIO 1  **********************\n",
      "        Name  Age     Sex Profession\n",
      "0  Alexander   19    male    student\n",
      "1       Jane   36  famale   physcian\n",
      "\n",
      "     Name  Age     Sex Profession\n",
      "0   Eric   22    male      layer\n",
      "1  Laura   48  famale    teacher\n",
      "\n",
      "     Name  Age     Sex  Profession\n",
      "0  Peter   31    male    engineer\n",
      "1  Julia   24  famale  consultant\n",
      "\n",
      "EJERCICIO 2  **********************\n",
      "\n",
      "         Name  Age     Sex  Profession\n",
      "0  Alexander   19    male     student\n",
      "1       Jane   36  famale    physcian\n",
      "0       Eric   22    male       layer\n",
      "1      Laura   48  famale     teacher\n",
      "0      Peter   31    male    engineer\n",
      "1      Julia   24  famale  consultant\n",
      "\n",
      "EJERCICIO 3  **********************\n",
      "\n",
      "         Name  Size  Salary\n",
      "0  Alexander   181     600\n",
      "1       Jane   162    4200\n",
      "2       Eric   178    4000\n",
      "3      Laura   183    3400\n",
      "4      Peter   173    5200\n",
      "5      Julia   169    6300\n",
      "\n",
      " \n",
      "         Name  Age     Sex  Profession  Size  Salary\n",
      "0  Alexander   19    male     student   181     600\n",
      "1       Jane   36  famale    physcian   162    4200\n",
      "2       Eric   22    male       layer   178    4000\n",
      "3      Laura   48  famale     teacher   183    3400\n",
      "4      Peter   31    male    engineer   173    5200\n",
      "5      Julia   24  famale  consultant   169    6300\n",
      "\n",
      "EJERCICIO 4  **********************\n",
      "\n",
      " \n",
      "         Name  Age     Sex  Profession  Size  Salary\n",
      "0  Alexander   19    male     student   180     600\n",
      "1       Jane   36  famale    physcian   161    4200\n",
      "2       Eric   22    male       layer   177    4000\n",
      "3      Laura   48  famale     teacher   182    3400\n",
      "4      Peter   31    male    engineer   172    5200\n",
      "5      Julia   24  famale  consultant   168    6300\n",
      "\n",
      "EJERCICIO 5  **********************\n",
      "\n",
      " \n",
      "     Name  Age     Sex Profession  Size  Salary\n",
      "3  Laura   48  famale    teacher   182    3400\n",
      "1   Jane   36  famale   physcian   161    4200\n",
      "4  Peter   31    male   engineer   172    5200\n"
     ],
     "output_type": "stream"
    }
   ],
   "source": [
    "import pandas as pd\n",
    "print('PUNTO 2  ----------------------------------------------------------')\n",
    "print('EJERCICIO 1  **********************')\n",
    "#EJERCICIO 1\n",
    "data1 = {'Name':['Alexander', 'Jane'],\n",
    "        'Age':[19,36],\n",
    "        'Sex':['male','famale'],\n",
    "        'Profession':['student','physcian']}\n",
    "data2 = {'Name':['Eric', 'Laura'],\n",
    "        'Age':[22,48],\n",
    "        'Sex':['male','famale'],\n",
    "        'Profession':['layer','teacher']}\n",
    "data3 = {'Name':['Peter', 'Julia'],\n",
    "        'Age':[31,24],\n",
    "        'Sex':['male','famale'],\n",
    "        'Profession':['engineer','consultant']}\n",
    "df1=pd.DataFrame(data1)\n",
    "df2=pd.DataFrame(data2)\n",
    "df3=pd.DataFrame(data3)\n",
    "print(df1)\n",
    "print('\\n',df2)\n",
    "print('\\n',df3)\n",
    "\n",
    "#EJERCICIO 2\n",
    "print('\\nEJERCICIO 2  **********************')\n",
    "df=pd.concat([df1, df2, df3])\n",
    "print('\\n',df)\n",
    "\n",
    "#EJERCICIO 3\n",
    "print('\\nEJERCICIO 3  **********************')\n",
    "data4 = {'Name':['Alexander', 'Jane', 'Eric', 'Laura', 'Peter', 'Julia'],\n",
    "        'Size':[181,162,178,183,173,169],\n",
    "        'Salary':[600,4200,4000,3400,5200,6300]}\n",
    "df4=pd.DataFrame(data4)\n",
    "print('\\n',df4)\n",
    "dfT=pd.merge(df, df4, on='Name', how='outer')\n",
    "print('\\n \\n',dfT)\n",
    "\n",
    "#EJERCICIO 4\n",
    "print('\\nEJERCICIO 4  **********************')\n",
    "dfT['Size'] = dfT['Size'].apply(lambda x: x-1)\n",
    "print('\\n \\n',dfT)\n",
    "\n",
    "#EJERCICIO 5\n",
    "print('\\nEJERCICIO 5  **********************')\n",
    "print('\\n \\n',(dfT.loc[dfT['Age'] > 30]).sort_values(by=['Salary'],ascending=True))"
   ],
   "metadata": {
    "collapsed": false,
    "pycharm": {
     "name": "#%% PUNTO 2\n",
     "is_executing": false
    }
   }
  },
  {
   "cell_type": "code",
   "execution_count": 78,
   "outputs": [
    {
     "name": "stdout",
     "text": [
      "PUNTO 3  ----------------------------------------------------------\n"
     ],
     "output_type": "stream"
    },
    {
     "data": {
      "text/plain": "<Figure size 432x288 with 1 Axes>",
      "image/png": "[encoded data removed]"
     },
     "metadata": {
      "needs_background": "light"
     },
     "output_type": "display_data"
    },
    {
     "data": {
      "text/plain": "<matplotlib.axes._subplots.AxesSubplot at 0x2b36977b488>"
     },
     "metadata": {},
     "output_type": "execute_result",
     "execution_count": 78
    },
    {
     "data": {
      "text/plain": "<Figure size 432x288 with 1 Axes>",
      "image/png": "[encoded data removed]"
     },
     "metadata": {
      "needs_background": "light"
     },
     "output_type": "display_data"
    }
   ],
   "source": [
    "print('PUNTO 3  ----------------------------------------------------------')\n",
    "import pandas as pd\n",
    "import matplotlib.pyplot as plt\n",
    "import seaborn as sns\n",
    "\n",
    "csv_readerOnline = pd.read_csv('https://raw.githubusercontent.com/uiuc-cse/data-fa14/gh-pages/data/iris.csv')\n",
    "csv_readerLocal = pd.read_csv('iris.csv')\n",
    "fig, ax = plt.subplots()\n",
    "especies=np.unique(csv_readerOnline['species'])\n",
    "colors=['r','b','g']\n",
    "for i in range(0,len(especies)):\n",
    "    a=ax.scatter(csv_readerOnline[csv_readerOnline['species']==especies[i]].sepal_length,\n",
    "                 csv_readerOnline[csv_readerOnline['species']==especies[i]].sepal_width,\n",
    "                 s=10,c=colors[i],label=especies[i])\n",
    "plt.legend()\n",
    "plt.show()\n",
    "fig.savefig(\"iris_scatter.pdf\", bbox_inches='tight')\n",
    "sns.scatterplot(x=csv_readerOnline['sepal_length'],y=csv_readerOnline['sepal_width'],hue=csv_readerLocal['species'])\n",
    "\n"
   ],
   "metadata": {
    "collapsed": false,
    "pycharm": {
     "name": "#%% PUNTO 3\n",
     "is_executing": false
    }
   }
  }
 ],
 "metadata": {
  "kernelspec": {
   "display_name": "Python 3",
   "language": "python",
   "name": "python3"
  },
  "language_info": {
   "codemirror_mode": {
    "name": "ipython",
    "version": 3
   },
   "file_extension": ".py",
   "mimetype": "text/x-python",
   "name": "python",
   "nbconvert_exporter": "python",
   "pygments_lexer": "ipython3",
   "version": "3.6.7"
  },
  "pycharm": {
   "stem_cell": {
    "cell_type": "raw",
    "source": [],
    "metadata": {
     "collapsed": false
    }
   }
  }
 },
 "nbformat": 4,
 "nbformat_minor": 2
}