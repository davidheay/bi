{
 "cells": [
  {
   "cell_type": "code",
   "execution_count": 2,
   "metadata": {
    "pycharm": {
     "is_executing": false,
     "name": "#%%\n"
    }
   },
   "outputs": [],
   "source": [
    "import numpy as np\n",
    "from scipy.spatial import distance\n",
    "import pandas as pd\n",
    "csv = pd.read_csv('baseball.csv',na_values='?')\n",
    "#=================PRIMER PUTNO=====================\n",
    "\n",
    "def binarizeCategoricalAttributeVector(v):\n",
    "    return pd.get_dummies(v).values\n",
    "\n",
    "def getCategoricalAttributes(df):\n",
    "    return df.select_dtypes(exclude=np.number)\n",
    "    \n",
    "def readFrameAsMatrix(data):\n",
    "    Vectors=[]\n",
    "    M=data.values\n",
    "    for i in data:\n",
    "        Vectors.append(binarizeCategoricalAttributeVector(csv[[i]]))\n",
    "    for r in range(0,M.shape[0]):\n",
    "        for c in range(0,M.shape[1]):\n",
    "            M[r,c]=Vectors[c][r]\n",
    "    \n",
    "    return M\n"
   ]
  },
  {
   "cell_type": "code",
   "execution_count": 5,
   "outputs": [
    {
     "name": "stderr",
     "text": [
      "c:\\users\\davidherrera\\pycharmprojects\\bi1\\venv\\lib\\site-packages\\pandas\\core\\ops\\__init__.py:1115: FutureWarning: elementwise comparison failed; returning scalar instead, but in the future will perform elementwise comparison\n",
      "  result = method(y)\n"
     ],
     "output_type": "stream"
    },
    {
     "name": "stdout",
     "text": [
      "['ARI' 'NL' 2012 734 688 81 0.328 0.418 0.259 0 '?' '?' 162 '0.317'\n",
      " '0.415']\n",
      "['ARI' 'NL' 2012 734 688 81 0.328 0.418 0.259 0 '5' '4' 162 '0.317'\n",
      " '0.415']\n"
     ],
     "output_type": "stream"
    }
   ],
   "source": [
    "#=================SEGUNDO PUTNO=====================(SE DEMORA UN POCO)\n",
    "csv = pd.read_csv('baseball.csv')\n",
    "M=readFrameAsMatrix(csv)\n",
    "n=np.where(csv =='?')\n",
    "a=csv.values\n",
    "for i in range (0,4,2):# pongo 4 para comprobar los primeros 4 ? ---- n[0].shape[0],2): para todos los ?\n",
    "    row=n[0][i]\n",
    "    col=n[1][i]\n",
    "    rowNear=-1\n",
    "    colNear=-1\n",
    "    min =np.inf\n",
    "    for r in range(0, M.shape[0]):\n",
    "        temp=0\n",
    "        if r!=row and csv.values[r][0]==csv.values[row][0]:\n",
    "            for c in range(0,M.shape[1]-4):\n",
    "                if csv.values[r][c]!='?':\n",
    "                    temp+=distance.euclidean(M[r][c],M[row][c])\n",
    "                else:\n",
    "                    temp+=np.inf\n",
    "            if temp<min:\n",
    "                rowNear=r\n",
    "                colNear=col\n",
    "                min=temp\n",
    "        a[row][col]=csv.values[rowNear][col]\n",
    "    a[row][col+1]=csv.values[rowNear][col+1]\n",
    "#comparacion de data antigua vs nueva\n",
    "print(csv.values[0])\n",
    "print(a[0])\n",
    "\n"
   ],
   "metadata": {
    "collapsed": false,
    "pycharm": {
     "name": "#%%\n",
     "is_executing": false
    }
   }
  },
  {
   "cell_type": "code",
   "execution_count": 31,
   "outputs": [
    {
     "name": "stdout",
     "text": [
      "Matriz inicial\n",
      "[[4 6]\n",
      " [6 2]\n",
      " [9 1]\n",
      " [6 3]\n",
      " [1 1]]\n",
      "Tabla de contingencia\n",
      "Cat. 2 --  1  2  3  6  All\n",
      "Cat. 1 --                 \n",
      "1          1  0  0  0    1\n",
      "4          0  0  0  1    1\n",
      "6          0  1  1  0    2\n",
      "9          1  0  0  0    1\n",
      "All        2  1  1  1    5\n",
      "Ocurrencias esperadas\n",
      "     0    1    2    3\n",
      "0  0.4  0.2  0.2  0.2\n",
      "1  0.4  0.2  0.2  0.2\n",
      "2  0.8  0.4  0.4  0.4\n",
      "3  0.4  0.2  0.2  0.2\n",
      "X^2\n",
      "10.0\n",
      "True\n"
     ],
     "output_type": "stream"
    }
   ],
   "source": [
    "#=================QUINTO PUTNO=====================\n",
    "\n",
    "import numpy as np\n",
    "from matplotlib import pyplot as plt\n",
    "import pandas as pd \n",
    "from scipy.stats import chi2\n",
    "data =np.random.randint(10, size=( 5, 2))\n",
    "# data = [['Alexander', 10],\n",
    "#         ['Alexander',36],\n",
    "#         ['male', 10],\n",
    "#         ['male', 10]]\n",
    "csv = pd.read_csv('baseball.csv')\n",
    "def  getContingencyTable(arr):\n",
    "    df1=pd.DataFrame(arr)\n",
    "    return  pd.crosstab(df1.iloc[:,0],\n",
    "                                df1.iloc[:,1],\n",
    "                                margins = True,\n",
    "                                rownames=['Cat. 1 --'],\n",
    "                                colnames=['Cat. 2 --'])    \n",
    "     \n",
    "\n",
    "def computeExpectedOccurrences(ct):\n",
    "    newTab=np.random.uniform(5,10,[ct.shape[0]-1,ct.shape[1]-1])\n",
    "    for i in range(0,ct.shape[0]-1):\n",
    "        for j in range(0,ct.shape[1]-1):\n",
    "            newTab[i][j]=(ct.iloc[i]['All']*ct.loc['All'].iloc[j])/ct['All']['All']\n",
    "    df2=pd.DataFrame(newTab)\n",
    "    return df2\n",
    "\n",
    "def computeChiSquare(arr2):\n",
    "    contingency=getContingencyTable(arr2)\n",
    "    occurrences=computeExpectedOccurrences(contingency)\n",
    "    val=0\n",
    "    for i in range(0,contingency.shape[0]-1):\n",
    "        for j in range(0,contingency.shape[1]-1):\n",
    "            val+=(contingency.iloc[i,j]-occurrences.iloc[i,j])**2/occurrences.iloc[i,j]\n",
    "    return val\n",
    "\n",
    "def checkIndependence(df, c1, c2, pValue):\n",
    "    contingency = pd.crosstab(df[df.columns[c1]],df[df.columns[c2]],margins = True,rownames=['Cat. 1 --'],colnames=['Cat. 2 --'])\n",
    "    occurrences=computeExpectedOccurrences(contingency)\n",
    "    val=0\n",
    "    for i in range(0,contingency.shape[0]-1):\n",
    "        for j in range(0,contingency.shape[1]-1):\n",
    "            val+=(contingency.iloc[i,j]-occurrences.iloc[i,j])**2/occurrences.iloc[i,j]\n",
    "    grados = (df.shape[1]-1)*(df.shape[0]-1)\n",
    "    critical = chi2.ppf(1-pValue, grados)\n",
    "    return  val<critical,grados,val,critical\n",
    "\n",
    "print('Matriz inicial')\n",
    "print(data)\n",
    "\n",
    "print('Tabla de contingencia')\n",
    "tab=getContingencyTable(data)\n",
    "print(tab)\n",
    "\n",
    "print(\"Ocurrencias esperadas\")\n",
    "print(computeExpectedOccurrences(tab))\n",
    "\n",
    "print('X^2')\n",
    "print(computeChiSquare(data))\n",
    "\n",
    "print(checkIndependence(csv,0,2,0.05)[0])"
   ],
   "metadata": {
    "collapsed": false,
    "pycharm": {
     "name": "#%%\n",
     "is_executing": false
    }
   }
  },
  {
   "cell_type": "code",
   "execution_count": null,
   "outputs": [],
   "source": [
    "#============= Comprobar baseball ====================\n",
    "\n",
    "labels=[]\n",
    "for i in csv:\n",
    "    labels.append(i)\n",
    "for i in range(0,len(labels)-9):\n",
    "    for j in range(i,len(labels)-9):\n",
    "        bol,grados,chi,critical=checkIndependence(csv,i,j,0.05)\n",
    "        print(('entre',labels[i],' y ',labels[j])if (bol)else'.')\n",
    "        if bol==False:\n",
    "            mu = 1000\n",
    "            x = np.linspace(-chi, 5*critical/4+chi, 20)\n",
    "            fig, ax = plt.subplots(figsize=(5, 3.75))\n",
    "            fig.subplots_adjust(bottom=0.12)\n",
    "            dist = chi2(grados, mu)\n",
    "            plt.plot(x, dist.pdf(x), ls='-', c='black',label=r'$k=%i$ entre %s y %s' % (grados,labels[i],labels[j]))\n",
    "            plt.plot(chi,0,'bo')\n",
    "            plt.plot(critical,0,'go')\n",
    "            plt.xlim(-chi,5*critical/4+chi)\n",
    "            # plt.ylim(0, 0.5)\n",
    "            plt.xlabel('$Q$')\n",
    "            plt.ylabel(r'$p(Q|k)$')\n",
    "            plt.title(r'$\\chi^2\\ \\mathrm{Distribution}$')\n",
    "            plt.legend()\n",
    "            plt.show()        \n",
    "        "
   ],
   "metadata": {
    "collapsed": false,
    "pycharm": {
     "name": "#%%\n"
    }
   }
  }
 ],
 "metadata": {
  "kernelspec": {
   "display_name": "Python 3",
   "language": "python",
   "name": "python3"
  },
  "language_info": {
   "codemirror_mode": {
    "name": "ipython",
    "version": 3
   },
   "file_extension": ".py",
   "mimetype": "text/x-python",
   "name": "python",
   "nbconvert_exporter": "python",
   "pygments_lexer": "ipython3",
   "version": "3.7.5"
  },
  "pycharm": {
   "stem_cell": {
    "cell_type": "raw",
    "source": [],
    "metadata": {
     "collapsed": false
    }
   }
  }
 },
 "nbformat": 4,
 "nbformat_minor": 1
}